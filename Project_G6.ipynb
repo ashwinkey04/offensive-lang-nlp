{
  "nbformat": 4,
  "nbformat_minor": 0,
  "metadata": {
    "colab": {
      "name": "Project_G6.ipynb",
      "provenance": [],
      "collapsed_sections": []
    },
    "kernelspec": {
      "name": "python3",
      "display_name": "Python 3"
    },
    "language_info": {
      "name": "python"
    }
  },
  "cells": [
    {
      "cell_type": "markdown",
      "source": [
        "# NLP Project\n",
        "### Group 6\n",
        "- Ashwin R\n",
        "- Suriya Shanmugha Sundaram\n",
        "- Abhinav B\n",
        "- Ganeshan M"
      ],
      "metadata": {
        "id": "-PsmUbpviPUU"
      }
    },
    {
      "cell_type": "markdown",
      "source": [
        "## Imports\n"
      ],
      "metadata": {
        "id": "EkftaK0g_A1C"
      }
    },
    {
      "cell_type": "code",
      "source": [
        "import os\n",
        "import re\n",
        "import argparse\n",
        "import string\n",
        "string.punctuation"
      ],
      "metadata": {
        "colab": {
          "base_uri": "https://localhost:8080/",
          "height": 35
        },
        "id": "q5aYT6bw_Mr9",
        "outputId": "6a14ab2c-0fbe-4b8c-996d-035f15926c24"
      },
      "execution_count": 86,
      "outputs": [
        {
          "output_type": "execute_result",
          "data": {
            "text/plain": [
              "'!\"#$%&\\'()*+,-./:;<=>?@[\\\\]^_`{|}~'"
            ],
            "application/vnd.google.colaboratory.intrinsic+json": {
              "type": "string"
            }
          },
          "metadata": {},
          "execution_count": 86
        }
      ]
    },
    {
      "cell_type": "code",
      "source": [
        "import pandas as pd\n",
        "from bs4 import BeautifulSoup\n",
        "import fastai, torch\n",
        "\n",
        "import nltk, string, re, spacy,unicodedata, random\n",
        "nltk.download('punkt')\n",
        "from nltk.corpus import stopwords\n",
        "from nltk.tokenize import word_tokenize\n",
        "from nltk.tokenize import ToktokTokenizer"
      ],
      "metadata": {
        "colab": {
          "base_uri": "https://localhost:8080/"
        },
        "id": "_Dupx1ML_CEr",
        "outputId": "ddf37bed-74af-4573-b3f7-526f5b472c86"
      },
      "execution_count": 85,
      "outputs": [
        {
          "output_type": "stream",
          "name": "stdout",
          "text": [
            "[nltk_data] Downloading package punkt to /root/nltk_data...\n",
            "[nltk_data]   Package punkt is already up-to-date!\n"
          ]
        }
      ]
    },
    {
      "cell_type": "markdown",
      "source": [
        "## Dataset fetching and cleaning"
      ],
      "metadata": {
        "id": "eD4DK7LBfdes"
      }
    },
    {
      "cell_type": "code",
      "execution_count": null,
      "metadata": {
        "colab": {
          "base_uri": "https://localhost:8080/"
        },
        "id": "4a-he8xriBmX",
        "outputId": "ff0dcf0d-2118-4933-b9b4-000d52c1d1af"
      },
      "outputs": [
        {
          "output_type": "stream",
          "name": "stdout",
          "text": [
            "--2022-03-24 16:10:31--  https://raw.githubusercontent.com/ashwinkey04/offensive-lang-nlp/main/test.csv\n",
            "Resolving raw.githubusercontent.com (raw.githubusercontent.com)... 185.199.110.133, 185.199.108.133, 185.199.109.133, ...\n",
            "Connecting to raw.githubusercontent.com (raw.githubusercontent.com)|185.199.110.133|:443... connected.\n",
            "HTTP request sent, awaiting response... 200 OK\n",
            "Length: 121252 (118K) [text/plain]\n",
            "Saving to: ‘test.csv.2’\n",
            "\n",
            "\rtest.csv.2            0%[                    ]       0  --.-KB/s               \rtest.csv.2          100%[===================>] 118.41K  --.-KB/s    in 0.01s   \n",
            "\n",
            "2022-03-24 16:10:31 (7.75 MB/s) - ‘test.csv.2’ saved [121252/121252]\n",
            "\n",
            "--2022-03-24 16:10:31--  https://raw.githubusercontent.com/ashwinkey04/offensive-lang-nlp/main/train.csv\n",
            "Resolving raw.githubusercontent.com (raw.githubusercontent.com)... 185.199.108.133, 185.199.109.133, 185.199.110.133, ...\n",
            "Connecting to raw.githubusercontent.com (raw.githubusercontent.com)|185.199.108.133|:443... connected.\n",
            "HTTP request sent, awaiting response... 200 OK\n",
            "Length: 537634 (525K) [text/plain]\n",
            "Saving to: ‘train.csv.2’\n",
            "\n",
            "train.csv.2         100%[===================>] 525.03K  --.-KB/s    in 0.03s   \n",
            "\n",
            "2022-03-24 16:10:31 (17.4 MB/s) - ‘train.csv.2’ saved [537634/537634]\n",
            "\n"
          ]
        }
      ],
      "source": [
        "# Downloading datasets\n",
        "!wget https://raw.githubusercontent.com/ashwinkey04/offensive-lang-nlp/main/test.csv;\n",
        "!wget https://raw.githubusercontent.com/ashwinkey04/offensive-lang-nlp/main/train.csv;\n"
      ]
    },
    {
      "cell_type": "code",
      "source": [
        "df = pd.read_csv('train.csv', sep=',')\n",
        "df_test = pd.read_csv('test.csv', sep=',')\n",
        "\n",
        "df = df.dropna()\n",
        "df = df.drop(['id'], axis = 1)\n",
        "\n",
        "df_test = df_test.dropna()\n",
        "df_test = df_test.drop(['id'], axis = 1)"
      ],
      "metadata": {
        "id": "_1SUSQOuix85"
      },
      "execution_count": 82,
      "outputs": []
    },
    {
      "cell_type": "code",
      "source": [
        "import re\n",
        "\n",
        "# removing emojis\n",
        "emoji = re.compile(\n",
        "    \"[\"\n",
        "    u\"\\U0001F600-\\U0001F64F\"  # emoticons\n",
        "    u\"\\U0001F300-\\U0001F5FF\"  # symbols & pictographs\n",
        "    u\"\\U0001F680-\\U0001F6FF\"  # transport & map symbols\n",
        "    u\"\\U0001F1E0-\\U0001F1FF\"  # flags \n",
        "    u\"\\U00002500-\\U00002BEF\"  # chinese char\n",
        "    u\"\\U00002702-\\U000027B0\"\n",
        "    u\"\\U00002702-\\U000027B0\"\n",
        "    u\"\\U000024C2-\\U0001F251\"\n",
        "    u\"\\U0001f926-\\U0001f937\"\n",
        "    u\"\\U00010000-\\U0010ffff\"\n",
        "    u\"\\u2640-\\u2642\"\n",
        "    u\"\\u2600-\\u2B55\"\n",
        "    u\"\\u200d\"\n",
        "    u\"\\u23cf\"\n",
        "    u\"\\u23e9\"\n",
        "    u\"\\u231a\"\n",
        "    u\"\\ufe0f\" \n",
        "    u\"\\u3030\"\n",
        "    \"]+\",\n",
        "    flags=re.UNICODE,\n",
        ")\n",
        "emoticon_list = [\n",
        "    \"XD\", \"O:-)\", \")-:\", \"(-:\", \":-|\", \"@\", \"<3\", \"~,~\", \":-B\", \"<l:0\", \"$_$\", \"8-)\", \":-/\", \":-(\", \">:)\", \":*)\", \"#-o\", \"*<:o)\", \"|-O\", \"~:0\", \":/\", \"=-O\", \":-#\", \":-J\", \"=D\", \"B-)\", \":'(\", \"*-*\", \":)\", \"<><\", \":o\", \"=()\", \"</3\", \"@~)~~~~\", \"//_^\", \"[¬º-°]¬\", \":P\", \"^_^\", \":-Q\", \"=^.^=\", \":-*\", \"'=p'\", \":->\", \"<:3)~\", \":-E\", \";-)\", \"=)\", \"#\", \":S\", \"(*v*)\", \"O.o\", \"=8)\", \":(\", \"<3\", \"(.V.)\", \":>\", \":-D\", \"=D\", \"=o\", \"(-}{-)\", \"X-(\", \":-@\", \":-\\\\\", \".X-p\", \":-&\", \":-)(-:\", \"=/\", \"\\\\:D/\", \"{}\", \":o3\",\n",
        "]"
      ],
      "metadata": {
        "id": "JIe4JYf_-qBn"
      },
      "execution_count": null,
      "outputs": []
    },
    {
      "cell_type": "code",
      "source": [
        "def preprocess_text(text):\n",
        "    text = text.lower()\n",
        "    text = text.strip()\n",
        "    text = re.sub(r\"http\\S+\", \"\", text, flags=re.MULTILINE)  # removing urls\n",
        "    text = re.sub(r\"www\\S+\", \"\", text, flags=re.MULTILINE)  # removing urls\n",
        "    text = re.sub(r\"&\\S+\", \"\", text, flags=re.MULTILINE)\n",
        "    text = re.sub(r\"\\.{2,}\", \".\", text, flags=re.MULTILINE)  # continous dots\n",
        "    text = re.sub(r\"&\", \" and \", text)\n",
        "\n",
        "    for i in [8221, 35, 36, 94, 8217]:\n",
        "        text = text.replace(chr(i), \"\")\n",
        "    for i in emoticon_list:\n",
        "        text = text.replace(i, \"\")\n",
        "    text = text.replace(\"\\n\", \".\")\n",
        "    text = text.replace(\"&amp\", \" \")\n",
        "    text = text.replace(\"-\", \"\")\n",
        "    text = text.replace(\";\", \"\")\n",
        "    text = text.replace(\"@\", \"\")\n",
        "    text = text.replace('[{}]'.format(string.punctuation), '') #removing punctuations\n",
        "\n",
        "    # remove emoji\n",
        "    text = emoji.sub(r\"\", text)\n",
        "    punctuation = '!!\"$%&()*+-/:;<=>?[\\\\]^_{|}~.'\n",
        "    text = ''.join(ch for ch in text if ch not in set(punctuation))\n",
        "    # text = text.translate(str.maketrans('', '', string.punctuation))\n",
        "    text = BeautifulSoup(text, 'html.parser').get_text()\n",
        "      # Stopword Removing\n",
        "    tokenizer = ToktokTokenizer()\n",
        "    # convert sentence into token of words\n",
        "    tokens = tokenizer.tokenize(text)\n",
        "    tokens = [token.strip() for token in tokens]\n",
        "    text = ' '.join(ch for ch in tokens)\n",
        "\n",
        "    return text"
      ],
      "metadata": {
        "id": "syb5HLnL9tcL"
      },
      "execution_count": 87,
      "outputs": []
    },
    {
      "cell_type": "code",
      "source": [
        "def process_data(df):\n",
        "    df[\"cleaned_text\"] = df[\"text\"].map(lambda x: preprocess_text(x))\n",
        "    df[\"offensive\"] = df[\"category\"].map(lambda x: 1 if x.upper() == \"OFF\" else 0)\n",
        "\n",
        "    return df"
      ],
      "metadata": {
        "id": "J1hmciRL-TA-"
      },
      "execution_count": 88,
      "outputs": []
    },
    {
      "cell_type": "code",
      "source": [
        "df = process_data(df)\n",
        "df_test = process_data(df_test)"
      ],
      "metadata": {
        "id": "TNW4dy98-1a5"
      },
      "execution_count": 89,
      "outputs": []
    },
    {
      "cell_type": "markdown",
      "source": [
        "## Dataset preprocessing\n",
        "\n",
        "* Lower case the Romanized words.\n",
        "* Removing emojis and Emoticons\n",
        "* Remove all special characters, numbers and punctuation\n",
        "* Removing URLs, and user mentions"
      ],
      "metadata": {
        "id": "z05QOv2hinej"
      }
    },
    {
      "cell_type": "code",
      "source": [
        "import nltk\n",
        "nltk.download('punkt')\n",
        "df['tokenized_txt'] = df.apply(lambda row: nltk.word_tokenize(row['cleaned_text']), axis=1) #Tokenizing text"
      ],
      "metadata": {
        "colab": {
          "base_uri": "https://localhost:8080/"
        },
        "id": "E6Wlj1IAjJVf",
        "outputId": "0402a086-c6b1-4dc3-f4cb-739dd41a4ede"
      },
      "execution_count": null,
      "outputs": [
        {
          "output_type": "stream",
          "name": "stdout",
          "text": [
            "[nltk_data] Downloading package punkt to /root/nltk_data...\n",
            "[nltk_data]   Package punkt is already up-to-date!\n"
          ]
        }
      ]
    },
    {
      "cell_type": "code",
      "source": [
        "df['tokenized_txt']"
      ],
      "metadata": {
        "colab": {
          "base_uri": "https://localhost:8080/"
        },
        "id": "tb8Ly-SWkLFq",
        "outputId": "7b07c8a5-31ac-4820-c534-cb7519d4c72b"
      },
      "execution_count": null,
      "outputs": [
        {
          "output_type": "execute_result",
          "data": {
            "text/plain": [
              "0       [asha, apo, neenga, atha, government, ku, ther...\n",
              "1       [bala, sundar, ayyo, sorry.antha, line, ah, ex...\n",
              "2       [kalimuthu, ne, ena, lusa.yaaru, edhu, panaalu...\n",
              "3       [1st, baby, ku, neat, ah, feed, panunga, plzz,...\n",
              "4       [2012, il, vazhgiromnu, iruku, ithula, ,, apdi...\n",
              "                              ...                        \n",
              "3994    [yaroda, body, structure, semaya, irukum, ?, s...\n",
              "3995    [yenda, naangala, politics, varom, nu, pala, v...\n",
              "3996    [yepdithan, seruppala, adichalum, arasiyalvath...\n",
              "3997    [user, paithiyam, ena, unga, vanthu, full, ah,...\n",
              "3998    [rt, user, :, itha, vidaa, kevalam, veraa, iru...\n",
              "Name: tokenized_txt, Length: 3999, dtype: object"
            ]
          },
          "metadata": {},
          "execution_count": 44
        }
      ]
    },
    {
      "cell_type": "code",
      "source": [
        "import spacy\n",
        "from spacy.lang.en import English\n",
        "\n",
        "nlp = English()"
      ],
      "metadata": {
        "id": "tZ7NuikKipRo"
      },
      "execution_count": null,
      "outputs": []
    },
    {
      "cell_type": "code",
      "source": [
        "from sklearn.feature_extraction.text import CountVectorizer"
      ],
      "metadata": {
        "id": "rtEi4Y44q1Rp"
      },
      "execution_count": null,
      "outputs": []
    },
    {
      "cell_type": "code",
      "source": [
        "text = df['text']\n",
        "model = CountVectorizer(ngram_range = (1, 1), stop_words='english')\n",
        "matrix = model.fit_transform(text).toarray()\n",
        "df_output = pd.DataFrame(data = matrix, columns = model.get_feature_names())\n",
        "df_output.T.tail(5)"
      ],
      "metadata": {
        "id": "SxWSdA5FiqXT",
        "colab": {
          "base_uri": "https://localhost:8080/",
          "height": 290
        },
        "outputId": "dd67a7f8-d635-4625-8fc8-54416c227361"
      },
      "execution_count": null,
      "outputs": [
        {
          "output_type": "stream",
          "name": "stderr",
          "text": [
            "/usr/local/lib/python3.7/dist-packages/sklearn/utils/deprecation.py:87: FutureWarning: Function get_feature_names is deprecated; get_feature_names is deprecated in 1.0 and will be removed in 1.2. Please use get_feature_names_out instead.\n",
            "  warnings.warn(msg, category=FutureWarning)\n"
          ]
        },
        {
          "output_type": "execute_result",
          "data": {
            "text/plain": [
              "         0     1     2     3     4     5     6     7     8     9     ...  \\\n",
              "¾à          0     0     0     0     0     0     0     0     0     0  ...   \n",
              "šalways     0     0     0     0     0     0     0     0     0     0  ...   \n",
              "žˆ          0     0     0     0     0     0     0     0     0     0  ...   \n",
              "žˆthan      0     0     0     0     0     0     0     0     0     0  ...   \n",
              "ˆà          0     0     0     0     0     0     0     0     0     0  ...   \n",
              "\n",
              "         3989  3990  3991  3992  3993  3994  3995  3996  3997  3998  \n",
              "¾à          0     0     0     0     0     0     0     0     0     0  \n",
              "šalways     0     0     0     0     0     0     0     0     0     0  \n",
              "žˆ          0     0     0     0     0     0     0     0     0     0  \n",
              "žˆthan      0     0     0     0     0     0     0     0     0     0  \n",
              "ˆà          0     0     0     0     0     0     0     0     0     0  \n",
              "\n",
              "[5 rows x 3999 columns]"
            ],
            "text/html": [
              "\n",
              "  <div id=\"df-a2f2a9d5-f717-46fb-ab25-6354f3bb97b0\">\n",
              "    <div class=\"colab-df-container\">\n",
              "      <div>\n",
              "<style scoped>\n",
              "    .dataframe tbody tr th:only-of-type {\n",
              "        vertical-align: middle;\n",
              "    }\n",
              "\n",
              "    .dataframe tbody tr th {\n",
              "        vertical-align: top;\n",
              "    }\n",
              "\n",
              "    .dataframe thead th {\n",
              "        text-align: right;\n",
              "    }\n",
              "</style>\n",
              "<table border=\"1\" class=\"dataframe\">\n",
              "  <thead>\n",
              "    <tr style=\"text-align: right;\">\n",
              "      <th></th>\n",
              "      <th>0</th>\n",
              "      <th>1</th>\n",
              "      <th>2</th>\n",
              "      <th>3</th>\n",
              "      <th>4</th>\n",
              "      <th>5</th>\n",
              "      <th>6</th>\n",
              "      <th>7</th>\n",
              "      <th>8</th>\n",
              "      <th>9</th>\n",
              "      <th>...</th>\n",
              "      <th>3989</th>\n",
              "      <th>3990</th>\n",
              "      <th>3991</th>\n",
              "      <th>3992</th>\n",
              "      <th>3993</th>\n",
              "      <th>3994</th>\n",
              "      <th>3995</th>\n",
              "      <th>3996</th>\n",
              "      <th>3997</th>\n",
              "      <th>3998</th>\n",
              "    </tr>\n",
              "  </thead>\n",
              "  <tbody>\n",
              "    <tr>\n",
              "      <th>¾à</th>\n",
              "      <td>0</td>\n",
              "      <td>0</td>\n",
              "      <td>0</td>\n",
              "      <td>0</td>\n",
              "      <td>0</td>\n",
              "      <td>0</td>\n",
              "      <td>0</td>\n",
              "      <td>0</td>\n",
              "      <td>0</td>\n",
              "      <td>0</td>\n",
              "      <td>...</td>\n",
              "      <td>0</td>\n",
              "      <td>0</td>\n",
              "      <td>0</td>\n",
              "      <td>0</td>\n",
              "      <td>0</td>\n",
              "      <td>0</td>\n",
              "      <td>0</td>\n",
              "      <td>0</td>\n",
              "      <td>0</td>\n",
              "      <td>0</td>\n",
              "    </tr>\n",
              "    <tr>\n",
              "      <th>šalways</th>\n",
              "      <td>0</td>\n",
              "      <td>0</td>\n",
              "      <td>0</td>\n",
              "      <td>0</td>\n",
              "      <td>0</td>\n",
              "      <td>0</td>\n",
              "      <td>0</td>\n",
              "      <td>0</td>\n",
              "      <td>0</td>\n",
              "      <td>0</td>\n",
              "      <td>...</td>\n",
              "      <td>0</td>\n",
              "      <td>0</td>\n",
              "      <td>0</td>\n",
              "      <td>0</td>\n",
              "      <td>0</td>\n",
              "      <td>0</td>\n",
              "      <td>0</td>\n",
              "      <td>0</td>\n",
              "      <td>0</td>\n",
              "      <td>0</td>\n",
              "    </tr>\n",
              "    <tr>\n",
              "      <th>žˆ</th>\n",
              "      <td>0</td>\n",
              "      <td>0</td>\n",
              "      <td>0</td>\n",
              "      <td>0</td>\n",
              "      <td>0</td>\n",
              "      <td>0</td>\n",
              "      <td>0</td>\n",
              "      <td>0</td>\n",
              "      <td>0</td>\n",
              "      <td>0</td>\n",
              "      <td>...</td>\n",
              "      <td>0</td>\n",
              "      <td>0</td>\n",
              "      <td>0</td>\n",
              "      <td>0</td>\n",
              "      <td>0</td>\n",
              "      <td>0</td>\n",
              "      <td>0</td>\n",
              "      <td>0</td>\n",
              "      <td>0</td>\n",
              "      <td>0</td>\n",
              "    </tr>\n",
              "    <tr>\n",
              "      <th>žˆthan</th>\n",
              "      <td>0</td>\n",
              "      <td>0</td>\n",
              "      <td>0</td>\n",
              "      <td>0</td>\n",
              "      <td>0</td>\n",
              "      <td>0</td>\n",
              "      <td>0</td>\n",
              "      <td>0</td>\n",
              "      <td>0</td>\n",
              "      <td>0</td>\n",
              "      <td>...</td>\n",
              "      <td>0</td>\n",
              "      <td>0</td>\n",
              "      <td>0</td>\n",
              "      <td>0</td>\n",
              "      <td>0</td>\n",
              "      <td>0</td>\n",
              "      <td>0</td>\n",
              "      <td>0</td>\n",
              "      <td>0</td>\n",
              "      <td>0</td>\n",
              "    </tr>\n",
              "    <tr>\n",
              "      <th>ˆà</th>\n",
              "      <td>0</td>\n",
              "      <td>0</td>\n",
              "      <td>0</td>\n",
              "      <td>0</td>\n",
              "      <td>0</td>\n",
              "      <td>0</td>\n",
              "      <td>0</td>\n",
              "      <td>0</td>\n",
              "      <td>0</td>\n",
              "      <td>0</td>\n",
              "      <td>...</td>\n",
              "      <td>0</td>\n",
              "      <td>0</td>\n",
              "      <td>0</td>\n",
              "      <td>0</td>\n",
              "      <td>0</td>\n",
              "      <td>0</td>\n",
              "      <td>0</td>\n",
              "      <td>0</td>\n",
              "      <td>0</td>\n",
              "      <td>0</td>\n",
              "    </tr>\n",
              "  </tbody>\n",
              "</table>\n",
              "<p>5 rows × 3999 columns</p>\n",
              "</div>\n",
              "      <button class=\"colab-df-convert\" onclick=\"convertToInteractive('df-a2f2a9d5-f717-46fb-ab25-6354f3bb97b0')\"\n",
              "              title=\"Convert this dataframe to an interactive table.\"\n",
              "              style=\"display:none;\">\n",
              "        \n",
              "  <svg xmlns=\"http://www.w3.org/2000/svg\" height=\"24px\"viewBox=\"0 0 24 24\"\n",
              "       width=\"24px\">\n",
              "    <path d=\"M0 0h24v24H0V0z\" fill=\"none\"/>\n",
              "    <path d=\"M18.56 5.44l.94 2.06.94-2.06 2.06-.94-2.06-.94-.94-2.06-.94 2.06-2.06.94zm-11 1L8.5 8.5l.94-2.06 2.06-.94-2.06-.94L8.5 2.5l-.94 2.06-2.06.94zm10 10l.94 2.06.94-2.06 2.06-.94-2.06-.94-.94-2.06-.94 2.06-2.06.94z\"/><path d=\"M17.41 7.96l-1.37-1.37c-.4-.4-.92-.59-1.43-.59-.52 0-1.04.2-1.43.59L10.3 9.45l-7.72 7.72c-.78.78-.78 2.05 0 2.83L4 21.41c.39.39.9.59 1.41.59.51 0 1.02-.2 1.41-.59l7.78-7.78 2.81-2.81c.8-.78.8-2.07 0-2.86zM5.41 20L4 18.59l7.72-7.72 1.47 1.35L5.41 20z\"/>\n",
              "  </svg>\n",
              "      </button>\n",
              "      \n",
              "  <style>\n",
              "    .colab-df-container {\n",
              "      display:flex;\n",
              "      flex-wrap:wrap;\n",
              "      gap: 12px;\n",
              "    }\n",
              "\n",
              "    .colab-df-convert {\n",
              "      background-color: #E8F0FE;\n",
              "      border: none;\n",
              "      border-radius: 50%;\n",
              "      cursor: pointer;\n",
              "      display: none;\n",
              "      fill: #1967D2;\n",
              "      height: 32px;\n",
              "      padding: 0 0 0 0;\n",
              "      width: 32px;\n",
              "    }\n",
              "\n",
              "    .colab-df-convert:hover {\n",
              "      background-color: #E2EBFA;\n",
              "      box-shadow: 0px 1px 2px rgba(60, 64, 67, 0.3), 0px 1px 3px 1px rgba(60, 64, 67, 0.15);\n",
              "      fill: #174EA6;\n",
              "    }\n",
              "\n",
              "    [theme=dark] .colab-df-convert {\n",
              "      background-color: #3B4455;\n",
              "      fill: #D2E3FC;\n",
              "    }\n",
              "\n",
              "    [theme=dark] .colab-df-convert:hover {\n",
              "      background-color: #434B5C;\n",
              "      box-shadow: 0px 1px 3px 1px rgba(0, 0, 0, 0.15);\n",
              "      filter: drop-shadow(0px 1px 2px rgba(0, 0, 0, 0.3));\n",
              "      fill: #FFFFFF;\n",
              "    }\n",
              "  </style>\n",
              "\n",
              "      <script>\n",
              "        const buttonEl =\n",
              "          document.querySelector('#df-a2f2a9d5-f717-46fb-ab25-6354f3bb97b0 button.colab-df-convert');\n",
              "        buttonEl.style.display =\n",
              "          google.colab.kernel.accessAllowed ? 'block' : 'none';\n",
              "\n",
              "        async function convertToInteractive(key) {\n",
              "          const element = document.querySelector('#df-a2f2a9d5-f717-46fb-ab25-6354f3bb97b0');\n",
              "          const dataTable =\n",
              "            await google.colab.kernel.invokeFunction('convertToInteractive',\n",
              "                                                     [key], {});\n",
              "          if (!dataTable) return;\n",
              "\n",
              "          const docLinkHtml = 'Like what you see? Visit the ' +\n",
              "            '<a target=\"_blank\" href=https://colab.research.google.com/notebooks/data_table.ipynb>data table notebook</a>'\n",
              "            + ' to learn more about interactive tables.';\n",
              "          element.innerHTML = '';\n",
              "          dataTable['output_type'] = 'display_data';\n",
              "          await google.colab.output.renderOutput(dataTable, element);\n",
              "          const docLink = document.createElement('div');\n",
              "          docLink.innerHTML = docLinkHtml;\n",
              "          element.appendChild(docLink);\n",
              "        }\n",
              "      </script>\n",
              "    </div>\n",
              "  </div>\n",
              "  "
            ]
          },
          "metadata": {},
          "execution_count": 12
        }
      ]
    },
    {
      "cell_type": "markdown",
      "source": [
        ""
      ],
      "metadata": {
        "id": "dAfvyCsBum2Y"
      }
    }
  ]
}